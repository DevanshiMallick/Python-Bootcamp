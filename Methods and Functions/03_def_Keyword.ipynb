{
  "nbformat": 4,
  "nbformat_minor": 0,
  "metadata": {
    "colab": {
      "provenance": []
    },
    "kernelspec": {
      "name": "python3",
      "display_name": "Python 3"
    },
    "language_info": {
      "name": "python"
    }
  },
  "cells": [
    {
      "cell_type": "markdown",
      "source": [
        "**Def keyword**\n",
        "1. Creating a function requires a very specific syntax, including the def keyword, correct indentation, and proper structure.\n",
        "\n",
        "2. Syntax:\n",
        "```\n",
        "def name_of_function(parameters):\n",
        "    ''' docstring explains function.\n",
        "    '''\n",
        "    print('Hello')\n",
        "```"
      ],
      "metadata": {
        "id": "43jn4eTzxMGd"
      }
    },
    {
      "cell_type": "code",
      "source": [
        "def print_name(name):\n",
        "  print(\"hello \"+name)"
      ],
      "metadata": {
        "id": "cnkZSXAXxJKb"
      },
      "execution_count": 4,
      "outputs": []
    },
    {
      "cell_type": "code",
      "execution_count": 5,
      "metadata": {
        "colab": {
          "base_uri": "https://localhost:8080/"
        },
        "id": "EIBoVZihxFoi",
        "outputId": "f448aa7a-a7c6-462f-b3eb-21a45a808e64"
      },
      "outputs": [
        {
          "output_type": "stream",
          "name": "stdout",
          "text": [
            "hello Sammy\n"
          ]
        }
      ],
      "source": [
        "name='Sammy'\n",
        "print_name(name)"
      ]
    },
    {
      "cell_type": "markdown",
      "source": [
        "**Return Keyword**\n",
        "Typicallly we use the return keyword to send back the result of the fucntion, instead of just printing it out.\n",
        "\n",
        "return allows us to assign the output of the function to a new variable."
      ],
      "metadata": {
        "id": "5PrvIoy2yVmW"
      }
    },
    {
      "cell_type": "code",
      "source": [
        "def add_function(num1, num2):\n",
        "  return num1+num2"
      ],
      "metadata": {
        "id": "uyxA_2-kyu2N"
      },
      "execution_count": 6,
      "outputs": []
    },
    {
      "cell_type": "code",
      "source": [
        "result=add_function(2,4)\n",
        "\n",
        "print(result)"
      ],
      "metadata": {
        "colab": {
          "base_uri": "https://localhost:8080/"
        },
        "id": "k_QLWVXKy0Dw",
        "outputId": "03054fb2-7fe1-41f3-edd2-71725487d76f"
      },
      "execution_count": 9,
      "outputs": [
        {
          "output_type": "stream",
          "name": "stdout",
          "text": [
            "6\n"
          ]
        }
      ]
    }
  ]
}