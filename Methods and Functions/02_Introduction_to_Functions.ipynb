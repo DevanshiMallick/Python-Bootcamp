{
  "nbformat": 4,
  "nbformat_minor": 0,
  "metadata": {
    "colab": {
      "provenance": []
    },
    "kernelspec": {
      "name": "python3",
      "display_name": "Python 3"
    },
    "language_info": {
      "name": "python"
    }
  },
  "cells": [
    {
      "cell_type": "markdown",
      "source": [
        "**Functions** allow us to create blocks of code that can be easily executed many times, without needling to constantly rewrite the entire block of code.\n",
        "\n",
        "Functions will be a hige leap forward in your capabilities as a Python programmer.\n",
        "\n",
        "This means that the problems you are able to solve can also be a lot harder!\n",
        "\n",
        "It is very important to get practice combining everything you've learned so far (control flow, loops, etc.) with functions to become an effective programmer."
      ],
      "metadata": {
        "id": "F20RevSmv5uG"
      }
    }
  ]
}