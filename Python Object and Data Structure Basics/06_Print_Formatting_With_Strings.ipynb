{
  "nbformat": 4,
  "nbformat_minor": 0,
  "metadata": {
    "colab": {
      "provenance": []
    },
    "kernelspec": {
      "name": "python3",
      "display_name": "Python 3"
    },
    "language_info": {
      "name": "python"
    }
  },
  "cells": [
    {
      "cell_type": "markdown",
      "source": [
        "# **String Interpolation**\n",
        "\n",
        "inject a variable into a string for printing\n",
        "\n",
        "ex: my_name=\"Jose\"\n",
        "print(\"Hello\"+my_name)\n",
        "\n",
        "Two methods:\n",
        "1. .format()\n",
        "2. f-strings"
      ],
      "metadata": {
        "id": "X6rUXB3uD8G-"
      }
    },
    {
      "cell_type": "markdown",
      "source": [
        "# *Formatting with the .format() method*\n",
        "\n",
        " A good way to format objects into your strings for print statements is with\n",
        "the string .format() method.\n",
        "\n",
        "The syntax is:\n",
        "'String {} then also {}'.format('somthing1','somthing2')"
      ],
      "metadata": {
        "id": "j7ssO-w2EpOu"
      }
    },
    {
      "cell_type": "code",
      "execution_count": 1,
      "metadata": {
        "colab": {
          "base_uri": "https://localhost:8080/"
        },
        "id": "WxLrJcIUDqO9",
        "outputId": "d19df706-f560-47b5-8f07-522c581e66f9"
      },
      "outputs": [
        {
          "output_type": "stream",
          "name": "stdout",
          "text": [
            "This is a string INSERTED\n"
          ]
        }
      ],
      "source": [
        "print('This is a string {}'.format('INSERTED')) #inserted is placed at the instace where {} is present"
      ]
    },
    {
      "cell_type": "code",
      "source": [
        "print('The {} {} {}'.format ('fox','brown','quick'))"
      ],
      "metadata": {
        "colab": {
          "base_uri": "https://localhost:8080/"
        },
        "id": "EC2bPKh4EIYR",
        "outputId": "90b5525c-163a-4783-fa02-c0d674bf8ffe"
      },
      "execution_count": 3,
      "outputs": [
        {
          "output_type": "stream",
          "name": "stdout",
          "text": [
            "The fox brown quick\n"
          ]
        }
      ]
    },
    {
      "cell_type": "code",
      "source": [
        "#now we can also use index inside {} to understand which words are to be put where\n",
        "print('The {2} {1} {0}'.format ('fox','brown','quick'))"
      ],
      "metadata": {
        "colab": {
          "base_uri": "https://localhost:8080/"
        },
        "id": "rzOm-rvgFFI8",
        "outputId": "75686e15-7275-4b86-ac02-d2276dfc493b"
      },
      "execution_count": 4,
      "outputs": [
        {
          "output_type": "stream",
          "name": "stdout",
          "text": [
            "The quick brown fox\n"
          ]
        }
      ]
    },
    {
      "cell_type": "code",
      "source": [
        "#using keywords\n",
        "print('The {q} {b} {f}'.format (f='fox',b='brown',q='quick'))"
      ],
      "metadata": {
        "colab": {
          "base_uri": "https://localhost:8080/"
        },
        "id": "Jr9UhvTZFRll",
        "outputId": "aaf5c2d8-c2c7-4cdb-d86d-0f584c3f2f4a"
      },
      "execution_count": 6,
      "outputs": [
        {
          "output_type": "stream",
          "name": "stdout",
          "text": [
            "The quick brown fox\n"
          ]
        }
      ]
    },
    {
      "cell_type": "code",
      "source": [
        "print('The {f} {f} {f}'.format (f='fox',b='brown',q='quick'))"
      ],
      "metadata": {
        "colab": {
          "base_uri": "https://localhost:8080/"
        },
        "id": "gPq0dk-fF4iY",
        "outputId": "c7014f76-1c40-4846-a63e-7b7885ef1349"
      },
      "execution_count": 10,
      "outputs": [
        {
          "output_type": "stream",
          "name": "stdout",
          "text": [
            "The fox fox fox\n"
          ]
        }
      ]
    },
    {
      "cell_type": "markdown",
      "source": [
        "# *Float Formatting follows \"{value:width.precision f}\"*"
      ],
      "metadata": {
        "id": "zge3CM7XF_cK"
      }
    },
    {
      "cell_type": "code",
      "source": [
        "result=100/777"
      ],
      "metadata": {
        "id": "Gx_zscHpF4nX"
      },
      "execution_count": 12,
      "outputs": []
    },
    {
      "cell_type": "code",
      "source": [
        "result"
      ],
      "metadata": {
        "colab": {
          "base_uri": "https://localhost:8080/"
        },
        "id": "Yl9p1xYGGjJD",
        "outputId": "39a93f0b-efd9-45ae-b730-3608c8e8d04e"
      },
      "execution_count": 13,
      "outputs": [
        {
          "output_type": "execute_result",
          "data": {
            "text/plain": [
              "0.1287001287001287"
            ]
          },
          "metadata": {},
          "execution_count": 13
        }
      ]
    },
    {
      "cell_type": "code",
      "source": [
        "print(\"The result was {r}\".format(r=result))"
      ],
      "metadata": {
        "colab": {
          "base_uri": "https://localhost:8080/"
        },
        "id": "m9wgJ2dZJoQI",
        "outputId": "96f369fb-c1fe-43e8-8c3d-4f31aae46299"
      },
      "execution_count": 26,
      "outputs": [
        {
          "output_type": "stream",
          "name": "stdout",
          "text": [
            "The result was 104.12345\n"
          ]
        }
      ]
    },
    {
      "cell_type": "code",
      "source": [
        "result=104.12345"
      ],
      "metadata": {
        "id": "bHYGP5peJN_U"
      },
      "execution_count": 20,
      "outputs": []
    },
    {
      "cell_type": "code",
      "source": [
        "print(\"The result was {r:10.3f}\".format(r=result))\n",
        "#width adds white spaces\n",
        "#precision is about how many numbers should be considered after the decimal"
      ],
      "metadata": {
        "colab": {
          "base_uri": "https://localhost:8080/"
        },
        "id": "Te5RS5a4H2ki",
        "outputId": "da7a288d-8032-4183-8acd-4b3eded54d9d"
      },
      "execution_count": 27,
      "outputs": [
        {
          "output_type": "stream",
          "name": "stdout",
          "text": [
            "The result was    104.123\n"
          ]
        }
      ]
    },
    {
      "cell_type": "code",
      "source": [
        "print(\"The result was {r:1.5f}\".format(r=result))"
      ],
      "metadata": {
        "colab": {
          "base_uri": "https://localhost:8080/"
        },
        "id": "LHDkpoQQIz_j",
        "outputId": "c1f0e22c-8f30-4b60-f01c-e50b97d5c6ba"
      },
      "execution_count": 22,
      "outputs": [
        {
          "output_type": "stream",
          "name": "stdout",
          "text": [
            "The result was 104.12345\n"
          ]
        }
      ]
    },
    {
      "cell_type": "code",
      "source": [
        "name='Jose'"
      ],
      "metadata": {
        "id": "fP77WLALJDfY"
      },
      "execution_count": 25,
      "outputs": []
    },
    {
      "cell_type": "code",
      "source": [
        "print(f'Hello, his name is {name}')"
      ],
      "metadata": {
        "colab": {
          "base_uri": "https://localhost:8080/"
        },
        "id": "OYKiyFmyJWQm",
        "outputId": "4569a97a-f7e9-4e84-b1ff-35ffe77b2a33"
      },
      "execution_count": 24,
      "outputs": [
        {
          "output_type": "stream",
          "name": "stdout",
          "text": [
            "Hello, his name is Jose\n"
          ]
        }
      ]
    },
    {
      "cell_type": "code",
      "source": [
        "name ='Sam'\n",
        "age =3"
      ],
      "metadata": {
        "id": "zyAWxSpoKDAu"
      },
      "execution_count": 29,
      "outputs": []
    },
    {
      "cell_type": "code",
      "source": [
        "print(f'{name} is {age} years old.')"
      ],
      "metadata": {
        "colab": {
          "base_uri": "https://localhost:8080/"
        },
        "id": "05NunAUxKGRw",
        "outputId": "64752d68-5d86-4f41-828d-01ab1c8e19e2"
      },
      "execution_count": 31,
      "outputs": [
        {
          "output_type": "stream",
          "name": "stdout",
          "text": [
            "Sam is 3 years old.\n"
          ]
        }
      ]
    }
  ]
}