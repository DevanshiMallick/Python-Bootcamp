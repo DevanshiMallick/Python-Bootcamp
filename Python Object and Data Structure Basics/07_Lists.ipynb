{
  "nbformat": 4,
  "nbformat_minor": 0,
  "metadata": {
    "colab": {
      "provenance": []
    },
    "kernelspec": {
      "name": "python3",
      "display_name": "Python 3"
    },
    "language_info": {
      "name": "python"
    }
  },
  "cells": [
    {
      "cell_type": "code",
      "execution_count": 5,
      "metadata": {
        "id": "0qpLFMcxKgXN"
      },
      "outputs": [],
      "source": [
        "my_list=[1,2,3,4]"
      ]
    },
    {
      "cell_type": "code",
      "source": [
        "my_list =['String',100,23.2]"
      ],
      "metadata": {
        "id": "KmVL3y6XMCyF"
      },
      "execution_count": 6,
      "outputs": []
    },
    {
      "cell_type": "markdown",
      "source": [
        "**Length of string**"
      ],
      "metadata": {
        "id": "kTiuRkqSM_to"
      }
    },
    {
      "cell_type": "code",
      "source": [
        "len(my_list)"
      ],
      "metadata": {
        "colab": {
          "base_uri": "https://localhost:8080/"
        },
        "id": "LHRVN5THMGLW",
        "outputId": "46cd7f41-f20c-464b-9268-f6fe7ba5e452"
      },
      "execution_count": 7,
      "outputs": [
        {
          "output_type": "execute_result",
          "data": {
            "text/plain": [
              "3"
            ]
          },
          "metadata": {},
          "execution_count": 7
        }
      ]
    },
    {
      "cell_type": "markdown",
      "source": [
        "**Slicing and Indexing a String**"
      ],
      "metadata": {
        "id": "LDQXyMq1NHuq"
      }
    },
    {
      "cell_type": "code",
      "source": [
        "my_list=[\"one\",\"two\",\"three\"]"
      ],
      "metadata": {
        "id": "z1_JEhWNMIAd"
      },
      "execution_count": 8,
      "outputs": []
    },
    {
      "cell_type": "code",
      "source": [
        "my_list[0]"
      ],
      "metadata": {
        "colab": {
          "base_uri": "https://localhost:8080/",
          "height": 35
        },
        "id": "gzHc2AIuMNBG",
        "outputId": "2b8b0b6e-cc05-4351-88fe-496ee076978f"
      },
      "execution_count": 9,
      "outputs": [
        {
          "output_type": "execute_result",
          "data": {
            "text/plain": [
              "'one'"
            ],
            "application/vnd.google.colaboratory.intrinsic+json": {
              "type": "string"
            }
          },
          "metadata": {},
          "execution_count": 9
        }
      ]
    },
    {
      "cell_type": "code",
      "source": [
        "my_list[1:]"
      ],
      "metadata": {
        "colab": {
          "base_uri": "https://localhost:8080/"
        },
        "id": "Pl2YfzMAMPpT",
        "outputId": "64871b49-42d2-4c36-cfbc-0dd7b65274f1"
      },
      "execution_count": 10,
      "outputs": [
        {
          "output_type": "execute_result",
          "data": {
            "text/plain": [
              "['two', 'three']"
            ]
          },
          "metadata": {},
          "execution_count": 10
        }
      ]
    },
    {
      "cell_type": "markdown",
      "source": [
        "# **Concatenating Two Lists**"
      ],
      "metadata": {
        "id": "8NxZ97C5T8lE"
      }
    },
    {
      "cell_type": "code",
      "source": [
        "another_list=[\"four\",\"five\"]"
      ],
      "metadata": {
        "id": "nGzZxVvxMSt6"
      },
      "execution_count": 11,
      "outputs": []
    },
    {
      "cell_type": "code",
      "source": [
        "my_list+another_list"
      ],
      "metadata": {
        "colab": {
          "base_uri": "https://localhost:8080/"
        },
        "id": "EBZuDxojN24i",
        "outputId": "b6c0ee0e-7d88-47c7-9506-abd66497b8c6"
      },
      "execution_count": 12,
      "outputs": [
        {
          "output_type": "execute_result",
          "data": {
            "text/plain": [
              "['one', 'two', 'three', 'four', 'five']"
            ]
          },
          "metadata": {},
          "execution_count": 12
        }
      ]
    },
    {
      "cell_type": "code",
      "source": [
        "my_list"
      ],
      "metadata": {
        "colab": {
          "base_uri": "https://localhost:8080/"
        },
        "id": "mbsTv3lHOK1y",
        "outputId": "85afd64f-4802-4c74-a26f-3dc12d6bade5"
      },
      "execution_count": 13,
      "outputs": [
        {
          "output_type": "execute_result",
          "data": {
            "text/plain": [
              "['one', 'two', 'three']"
            ]
          },
          "metadata": {},
          "execution_count": 13
        }
      ]
    },
    {
      "cell_type": "code",
      "source": [
        "another_list"
      ],
      "metadata": {
        "colab": {
          "base_uri": "https://localhost:8080/"
        },
        "id": "aZSeQkF1PwsP",
        "outputId": "d2d96ccf-fdc6-4f84-8a27-5e7fe4b637a4"
      },
      "execution_count": 14,
      "outputs": [
        {
          "output_type": "execute_result",
          "data": {
            "text/plain": [
              "['four', 'five']"
            ]
          },
          "metadata": {},
          "execution_count": 14
        }
      ]
    },
    {
      "cell_type": "code",
      "source": [
        "new_list=my_list+another_list"
      ],
      "metadata": {
        "id": "WhA03EBGP02g"
      },
      "execution_count": 15,
      "outputs": []
    },
    {
      "cell_type": "markdown",
      "source": [
        "# **Lists are Mutable**"
      ],
      "metadata": {
        "id": "uk6vK7h4UHSc"
      }
    },
    {
      "cell_type": "code",
      "source": [
        "new_list[0]='ONE ALL CAPS'"
      ],
      "metadata": {
        "id": "nA6eFAunQDMv"
      },
      "execution_count": 16,
      "outputs": []
    },
    {
      "cell_type": "code",
      "source": [
        "new_list"
      ],
      "metadata": {
        "colab": {
          "base_uri": "https://localhost:8080/"
        },
        "id": "tyXAY9AJQLoU",
        "outputId": "c0fd7c37-0a41-43d5-8af3-086c56a54309"
      },
      "execution_count": 17,
      "outputs": [
        {
          "output_type": "execute_result",
          "data": {
            "text/plain": [
              "['ONE ALL CAPS', 'two', 'three', 'four', 'five']"
            ]
          },
          "metadata": {},
          "execution_count": 17
        }
      ]
    },
    {
      "cell_type": "markdown",
      "source": [
        "# **Appending an Element in the list**"
      ],
      "metadata": {
        "id": "uF6PyfdEULd9"
      }
    },
    {
      "cell_type": "code",
      "source": [
        "new_list.append('six')"
      ],
      "metadata": {
        "id": "vmmhq4LhQXMs"
      },
      "execution_count": 18,
      "outputs": []
    },
    {
      "cell_type": "code",
      "source": [
        "new_list"
      ],
      "metadata": {
        "colab": {
          "base_uri": "https://localhost:8080/"
        },
        "id": "78YKMcacQpAy",
        "outputId": "5c8764ce-653a-4e6e-ddbe-92ec2312005a"
      },
      "execution_count": 19,
      "outputs": [
        {
          "output_type": "execute_result",
          "data": {
            "text/plain": [
              "['ONE ALL CAPS', 'two', 'three', 'four', 'five', 'six']"
            ]
          },
          "metadata": {},
          "execution_count": 19
        }
      ]
    },
    {
      "cell_type": "code",
      "source": [
        "new_list.append('seven')"
      ],
      "metadata": {
        "id": "9xOYLhniQwM9"
      },
      "execution_count": 20,
      "outputs": []
    },
    {
      "cell_type": "markdown",
      "source": [
        "# **Popping an Element from a list**"
      ],
      "metadata": {
        "id": "AqTYUZK0URFk"
      }
    },
    {
      "cell_type": "code",
      "source": [
        "new_list.pop()"
      ],
      "metadata": {
        "colab": {
          "base_uri": "https://localhost:8080/",
          "height": 35
        },
        "id": "yuIAyqx6Tz8g",
        "outputId": "0401428a-c41e-4d50-82ca-a13b4197173a"
      },
      "execution_count": 21,
      "outputs": [
        {
          "output_type": "execute_result",
          "data": {
            "text/plain": [
              "'seven'"
            ],
            "application/vnd.google.colaboratory.intrinsic+json": {
              "type": "string"
            }
          },
          "metadata": {},
          "execution_count": 21
        }
      ]
    },
    {
      "cell_type": "code",
      "source": [
        "popped_item=new_list.pop()"
      ],
      "metadata": {
        "id": "ckiQIFs5UYky"
      },
      "execution_count": 22,
      "outputs": []
    },
    {
      "cell_type": "code",
      "source": [
        "popped_item"
      ],
      "metadata": {
        "colab": {
          "base_uri": "https://localhost:8080/",
          "height": 35
        },
        "id": "kXe493Y8UdW6",
        "outputId": "3ade34eb-57b4-4efd-fe4d-7661dbbb8cc4"
      },
      "execution_count": 23,
      "outputs": [
        {
          "output_type": "execute_result",
          "data": {
            "text/plain": [
              "'six'"
            ],
            "application/vnd.google.colaboratory.intrinsic+json": {
              "type": "string"
            }
          },
          "metadata": {},
          "execution_count": 23
        }
      ]
    },
    {
      "cell_type": "code",
      "source": [
        "new_list"
      ],
      "metadata": {
        "colab": {
          "base_uri": "https://localhost:8080/"
        },
        "id": "93ZKFgvNUfgb",
        "outputId": "1fd0c00c-78d0-4df3-c73d-5163a99ca4df"
      },
      "execution_count": 24,
      "outputs": [
        {
          "output_type": "execute_result",
          "data": {
            "text/plain": [
              "['ONE ALL CAPS', 'two', 'three', 'four', 'five']"
            ]
          },
          "metadata": {},
          "execution_count": 24
        }
      ]
    },
    {
      "cell_type": "code",
      "source": [
        "new_list.pop()"
      ],
      "metadata": {
        "colab": {
          "base_uri": "https://localhost:8080/",
          "height": 35
        },
        "id": "ChMQrc5sU01P",
        "outputId": "77bb1619-75a5-41da-b65e-0ded9a768efc"
      },
      "execution_count": 25,
      "outputs": [
        {
          "output_type": "execute_result",
          "data": {
            "text/plain": [
              "'five'"
            ],
            "application/vnd.google.colaboratory.intrinsic+json": {
              "type": "string"
            }
          },
          "metadata": {},
          "execution_count": 25
        }
      ]
    },
    {
      "cell_type": "code",
      "source": [
        "new_list.pop(0)"
      ],
      "metadata": {
        "colab": {
          "base_uri": "https://localhost:8080/",
          "height": 35
        },
        "id": "eVr6nwEAV7j0",
        "outputId": "895e1f54-d929-480a-9d1a-555827cf4eb9"
      },
      "execution_count": 26,
      "outputs": [
        {
          "output_type": "execute_result",
          "data": {
            "text/plain": [
              "'ONE ALL CAPS'"
            ],
            "application/vnd.google.colaboratory.intrinsic+json": {
              "type": "string"
            }
          },
          "metadata": {},
          "execution_count": 26
        }
      ]
    },
    {
      "cell_type": "code",
      "source": [
        "new_list"
      ],
      "metadata": {
        "colab": {
          "base_uri": "https://localhost:8080/"
        },
        "id": "bvCwEMGyAY-r",
        "outputId": "bbdeb957-8ec7-4375-f7af-0764d114f35a"
      },
      "execution_count": 27,
      "outputs": [
        {
          "output_type": "execute_result",
          "data": {
            "text/plain": [
              "['two', 'three', 'four']"
            ]
          },
          "metadata": {},
          "execution_count": 27
        }
      ]
    },
    {
      "cell_type": "code",
      "source": [
        "new_list=['a','e','x','b','c']\n",
        "num_list=[4,1,8,3]"
      ],
      "metadata": {
        "id": "_hNENN8xAcxR"
      },
      "execution_count": 28,
      "outputs": []
    },
    {
      "cell_type": "code",
      "source": [
        "new_list.sort()"
      ],
      "metadata": {
        "id": "76tYVtVJA6OQ"
      },
      "execution_count": 29,
      "outputs": []
    },
    {
      "cell_type": "code",
      "source": [
        "my_sorted_list=new_list.sort()"
      ],
      "metadata": {
        "id": "U3fHVILIA89r"
      },
      "execution_count": 30,
      "outputs": []
    },
    {
      "cell_type": "code",
      "source": [
        "type(my_sorted_list)"
      ],
      "metadata": {
        "colab": {
          "base_uri": "https://localhost:8080/"
        },
        "id": "PpwSVQCaBB33",
        "outputId": "5569666d-8897-435b-e301-a5c11b7eb41b"
      },
      "execution_count": 31,
      "outputs": [
        {
          "output_type": "execute_result",
          "data": {
            "text/plain": [
              "NoneType"
            ]
          },
          "metadata": {},
          "execution_count": 31
        }
      ]
    },
    {
      "cell_type": "code",
      "source": [
        "None"
      ],
      "metadata": {
        "id": "EIt5ehqTBEgA"
      },
      "execution_count": 32,
      "outputs": []
    },
    {
      "cell_type": "code",
      "source": [
        "new_list.sort()\n",
        "my_sorted_list=new_list"
      ],
      "metadata": {
        "id": "pdgNXM8MBM9s"
      },
      "execution_count": 33,
      "outputs": []
    },
    {
      "cell_type": "code",
      "source": [
        "my_sorted_list"
      ],
      "metadata": {
        "colab": {
          "base_uri": "https://localhost:8080/"
        },
        "id": "25Cu3S0LBY-m",
        "outputId": "de575a0d-ba20-423d-f4c0-86678b590331"
      },
      "execution_count": 34,
      "outputs": [
        {
          "output_type": "execute_result",
          "data": {
            "text/plain": [
              "['a', 'b', 'c', 'e', 'x']"
            ]
          },
          "metadata": {},
          "execution_count": 34
        }
      ]
    },
    {
      "cell_type": "code",
      "source": [
        "num_list"
      ],
      "metadata": {
        "colab": {
          "base_uri": "https://localhost:8080/"
        },
        "id": "8lBsaj9SBciS",
        "outputId": "2d53a854-d8c3-4e9b-c7bd-a98cd6fccc90"
      },
      "execution_count": 35,
      "outputs": [
        {
          "output_type": "execute_result",
          "data": {
            "text/plain": [
              "[4, 1, 8, 3]"
            ]
          },
          "metadata": {},
          "execution_count": 35
        }
      ]
    },
    {
      "cell_type": "code",
      "source": [
        "num_list.sort()"
      ],
      "metadata": {
        "id": "w6J6RopFBfnh"
      },
      "execution_count": 36,
      "outputs": []
    },
    {
      "cell_type": "code",
      "source": [
        "num_list"
      ],
      "metadata": {
        "colab": {
          "base_uri": "https://localhost:8080/"
        },
        "id": "xgjdovLXBfts",
        "outputId": "357313af-8e04-46ed-c405-e031a60cfe38"
      },
      "execution_count": 37,
      "outputs": [
        {
          "output_type": "execute_result",
          "data": {
            "text/plain": [
              "[1, 3, 4, 8]"
            ]
          },
          "metadata": {},
          "execution_count": 37
        }
      ]
    },
    {
      "cell_type": "code",
      "source": [
        "num_list.reverse()"
      ],
      "metadata": {
        "id": "YtBA0XYiBmIP"
      },
      "execution_count": 38,
      "outputs": []
    },
    {
      "cell_type": "code",
      "source": [
        "num_list"
      ],
      "metadata": {
        "colab": {
          "base_uri": "https://localhost:8080/"
        },
        "id": "wLWB13WeBqS8",
        "outputId": "27c9e7ee-872b-4cf4-9278-e3f8ad8a945c"
      },
      "execution_count": 39,
      "outputs": [
        {
          "output_type": "execute_result",
          "data": {
            "text/plain": [
              "[8, 4, 3, 1]"
            ]
          },
          "metadata": {},
          "execution_count": 39
        }
      ]
    }
  ]
}