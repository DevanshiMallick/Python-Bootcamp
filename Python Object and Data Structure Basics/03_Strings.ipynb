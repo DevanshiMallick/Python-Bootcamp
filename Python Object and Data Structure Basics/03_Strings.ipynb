{
  "nbformat": 4,
  "nbformat_minor": 0,
  "metadata": {
    "colab": {
      "provenance": []
    },
    "kernelspec": {
      "name": "python3",
      "display_name": "Python 3"
    },
    "language_info": {
      "name": "python"
    }
  },
  "cells": [
    {
      "cell_type": "markdown",
      "source": [
        "*can use both \" \" and ' ' for enclosing strings.  Cannot use a mix of both.*\n",
        "\n",
        "*use [] for indexing and slicing of strings.*\n",
        "\n",
        "*indexing can start from 0 and go to n*\n",
        "\n",
        "*in case of reverse indexing the last index of the string is -1.*\n",
        "\n",
        "*to grab the slice of a string use the following syntax: [start:stop:step]*\n"
      ],
      "metadata": {
        "id": "SAZEtOngnWSr"
      }
    },
    {
      "cell_type": "code",
      "execution_count": 1,
      "metadata": {
        "colab": {
          "base_uri": "https://localhost:8080/",
          "height": 35
        },
        "id": "PO6DWp_Jm-mb",
        "outputId": "20090860-dce7-4ebc-c2df-4008b687ffc6"
      },
      "outputs": [
        {
          "output_type": "execute_result",
          "data": {
            "text/plain": [
              "'hello'"
            ],
            "application/vnd.google.colaboratory.intrinsic+json": {
              "type": "string"
            }
          },
          "metadata": {},
          "execution_count": 1
        }
      ],
      "source": [
        "'hello'"
      ]
    },
    {
      "cell_type": "code",
      "source": [
        "\"hello\""
      ],
      "metadata": {
        "colab": {
          "base_uri": "https://localhost:8080/",
          "height": 35
        },
        "id": "LQSK2ISwongf",
        "outputId": "f56eec94-a642-4daa-ca28-74eb969c3362"
      },
      "execution_count": 2,
      "outputs": [
        {
          "output_type": "execute_result",
          "data": {
            "text/plain": [
              "'hello'"
            ],
            "application/vnd.google.colaboratory.intrinsic+json": {
              "type": "string"
            }
          },
          "metadata": {},
          "execution_count": 2
        }
      ]
    },
    {
      "cell_type": "code",
      "source": [
        "'this is a string'"
      ],
      "metadata": {
        "colab": {
          "base_uri": "https://localhost:8080/",
          "height": 35
        },
        "id": "MrfIrXPPoo0n",
        "outputId": "c9e63228-7c1a-4520-a919-9c4936390c3a"
      },
      "execution_count": 3,
      "outputs": [
        {
          "output_type": "execute_result",
          "data": {
            "text/plain": [
              "'this is a string'"
            ],
            "application/vnd.google.colaboratory.intrinsic+json": {
              "type": "string"
            }
          },
          "metadata": {},
          "execution_count": 3
        }
      ]
    },
    {
      "cell_type": "code",
      "source": [
        "\"im going for a run\""
      ],
      "metadata": {
        "colab": {
          "base_uri": "https://localhost:8080/",
          "height": 35
        },
        "id": "YX4ng5Ccoqwn",
        "outputId": "378221fa-3409-4a8f-98d6-0392f69527db"
      },
      "execution_count": 4,
      "outputs": [
        {
          "output_type": "execute_result",
          "data": {
            "text/plain": [
              "'im going for a run'"
            ],
            "application/vnd.google.colaboratory.intrinsic+json": {
              "type": "string"
            }
          },
          "metadata": {},
          "execution_count": 4
        }
      ]
    },
    {
      "cell_type": "code",
      "source": [
        "\"hello world one\"\n",
        "\"hello world two\"\n",
        "#only the last string will be printed\""
      ],
      "metadata": {
        "colab": {
          "base_uri": "https://localhost:8080/",
          "height": 35
        },
        "id": "BWcCoNVco6m1",
        "outputId": "f63cc858-7666-43e6-e15e-ec4d9ea9295f"
      },
      "execution_count": 5,
      "outputs": [
        {
          "output_type": "execute_result",
          "data": {
            "text/plain": [
              "'hello world two'"
            ],
            "application/vnd.google.colaboratory.intrinsic+json": {
              "type": "string"
            }
          },
          "metadata": {},
          "execution_count": 5
        }
      ]
    },
    {
      "cell_type": "code",
      "source": [
        "#to print both the syrings we have to enclose both the strings into two print statements\n",
        "print(\"hello world one\")\n",
        "print(\"hello world two\")"
      ],
      "metadata": {
        "colab": {
          "base_uri": "https://localhost:8080/"
        },
        "id": "IcCdq71CpKCd",
        "outputId": "ade93470-993c-4dad-9b60-93920ffe388e"
      },
      "execution_count": 6,
      "outputs": [
        {
          "output_type": "stream",
          "name": "stdout",
          "text": [
            "hello world one\n",
            "hello world two\n"
          ]
        }
      ]
    },
    {
      "cell_type": "code",
      "source": [],
      "metadata": {
        "id": "YYMqssFjp9LQ"
      },
      "execution_count": null,
      "outputs": []
    },
    {
      "cell_type": "markdown",
      "source": [
        "*we can add escape sequences in the strings*"
      ],
      "metadata": {
        "id": "J6q2z7ijpg8w"
      }
    },
    {
      "cell_type": "code",
      "source": [
        "print(\"hello \\n world\")"
      ],
      "metadata": {
        "colab": {
          "base_uri": "https://localhost:8080/"
        },
        "id": "hlkKIIQ7pVIa",
        "outputId": "bf04c004-6a2f-46f0-e729-f22922b718f2"
      },
      "execution_count": 7,
      "outputs": [
        {
          "output_type": "stream",
          "name": "stdout",
          "text": [
            "hello \n",
            " world\n"
          ]
        }
      ]
    },
    {
      "cell_type": "code",
      "source": [
        "print(\"hello \\nworld\")"
      ],
      "metadata": {
        "colab": {
          "base_uri": "https://localhost:8080/"
        },
        "id": "S_4XeOozp6AQ",
        "outputId": "e3bbda33-e62a-4335-bb9c-f2b680f48dd3"
      },
      "execution_count": 8,
      "outputs": [
        {
          "output_type": "stream",
          "name": "stdout",
          "text": [
            "hello \n",
            "world\n"
          ]
        }
      ]
    },
    {
      "cell_type": "code",
      "source": [
        "print(\"hello \\t world\")"
      ],
      "metadata": {
        "colab": {
          "base_uri": "https://localhost:8080/"
        },
        "id": "b_euteM8qPhw",
        "outputId": "7a77927a-58a3-438e-8b91-a687d02ba70f"
      },
      "execution_count": 9,
      "outputs": [
        {
          "output_type": "stream",
          "name": "stdout",
          "text": [
            "hello \t world\n"
          ]
        }
      ]
    },
    {
      "cell_type": "markdown",
      "source": [
        "**length of a strings**"
      ],
      "metadata": {
        "id": "fzHG1HLQqgVq"
      }
    },
    {
      "cell_type": "code",
      "source": [
        "len(\"hello\")"
      ],
      "metadata": {
        "colab": {
          "base_uri": "https://localhost:8080/"
        },
        "id": "GUO7cyO8qWAH",
        "outputId": "62b1b8f9-5dce-40c8-bbaa-8d98ab06fe66"
      },
      "execution_count": 10,
      "outputs": [
        {
          "output_type": "execute_result",
          "data": {
            "text/plain": [
              "5"
            ]
          },
          "metadata": {},
          "execution_count": 10
        }
      ]
    }
  ]
}