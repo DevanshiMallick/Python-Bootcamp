{
  "nbformat": 4,
  "nbformat_minor": 0,
  "metadata": {
    "colab": {
      "provenance": []
    },
    "kernelspec": {
      "name": "python3",
      "display_name": "Python 3"
    },
    "language_info": {
      "name": "python"
    }
  },
  "cells": [
    {
      "cell_type": "code",
      "execution_count": 2,
      "metadata": {
        "colab": {
          "base_uri": "https://localhost:8080/"
        },
        "id": "HEB6dBaJP1Hc",
        "outputId": "9834360c-6110-401c-bb5b-176ab013cda7"
      },
      "outputs": [
        {
          "output_type": "stream",
          "name": "stdout",
          "text": [
            "1\n",
            "2\n",
            "3\n"
          ]
        }
      ],
      "source": [
        "#Syntax of a for loop\n",
        "\n",
        "my_iterable =[1,2,3]\n",
        "for item_name in my_iterable:\n",
        "  print(item_name)"
      ]
    },
    {
      "cell_type": "code",
      "source": [
        "myList= [1,2,3,4,5,6,7,8,9,10]"
      ],
      "metadata": {
        "id": "IsZqSbGnQy_c"
      },
      "execution_count": 9,
      "outputs": []
    },
    {
      "cell_type": "code",
      "source": [
        "for num in myList:\n",
        "  print(num)"
      ],
      "metadata": {
        "colab": {
          "base_uri": "https://localhost:8080/"
        },
        "id": "purXWfItRT0X",
        "outputId": "5fae56fb-8d72-454a-f8ab-64cafda91e70"
      },
      "execution_count": 8,
      "outputs": [
        {
          "output_type": "stream",
          "name": "stdout",
          "text": [
            "1\n",
            "2\n",
            "3\n",
            "4\n",
            "5\n",
            "6\n",
            "7\n",
            "8\n",
            "9\n",
            "10\n"
          ]
        }
      ]
    },
    {
      "cell_type": "code",
      "source": [],
      "metadata": {
        "id": "sUb_KMiSRcB8"
      },
      "execution_count": null,
      "outputs": []
    },
    {
      "cell_type": "code",
      "source": [
        "for num in myList:\n",
        "  print('hello')"
      ],
      "metadata": {
        "colab": {
          "base_uri": "https://localhost:8080/"
        },
        "outputId": "8a5a10dd-bb1a-483f-b093-14e5c4f959ce",
        "id": "EYkPxWqhR_37"
      },
      "execution_count": 5,
      "outputs": [
        {
          "output_type": "stream",
          "name": "stdout",
          "text": [
            "hello\n",
            "hello\n",
            "hello\n",
            "hello\n",
            "hello\n",
            "hello\n",
            "hello\n",
            "hello\n",
            "hello\n",
            "hello\n"
          ]
        }
      ]
    },
    {
      "cell_type": "code",
      "source": [
        "for num in myList:\n",
        "  #check for even\n",
        "  if num%2 ==0:\n",
        "    print(num)\n",
        "  else:\n",
        "    print(f'Odd number: {num}')"
      ],
      "metadata": {
        "colab": {
          "base_uri": "https://localhost:8080/"
        },
        "id": "T97wNmBTSCDT",
        "outputId": "0326c26b-ee2b-40cb-8fc0-99e2dc64f438"
      },
      "execution_count": 6,
      "outputs": [
        {
          "output_type": "stream",
          "name": "stdout",
          "text": [
            "Odd number: 1\n",
            "2\n",
            "Odd number: 3\n",
            "4\n",
            "Odd number: 5\n",
            "6\n",
            "Odd number: 7\n",
            "8\n",
            "Odd number: 9\n",
            "10\n"
          ]
        }
      ]
    },
    {
      "cell_type": "code",
      "source": [
        "list_sum=0\n",
        "\n",
        "for num in myList:\n",
        "  list_sum=list_sum+num\n",
        "  print(list_sum)"
      ],
      "metadata": {
        "colab": {
          "base_uri": "https://localhost:8080/"
        },
        "id": "86zdUJXfSScT",
        "outputId": "e9202505-b672-45ff-8630-1d8715bb3b25"
      },
      "execution_count": 12,
      "outputs": [
        {
          "output_type": "stream",
          "name": "stdout",
          "text": [
            "1\n",
            "3\n",
            "6\n",
            "10\n",
            "15\n",
            "21\n",
            "28\n",
            "36\n",
            "45\n",
            "55\n"
          ]
        }
      ]
    },
    {
      "cell_type": "code",
      "source": [
        "myString='Hello World'\n",
        "for letter in myString:\n",
        "  print(letter)\n",
        "  print('COOL!')"
      ],
      "metadata": {
        "colab": {
          "base_uri": "https://localhost:8080/"
        },
        "id": "iIMJDLlvSoUc",
        "outputId": "634beded-72c8-49f3-d5ab-633dfa9b2d19"
      },
      "execution_count": 14,
      "outputs": [
        {
          "output_type": "stream",
          "name": "stdout",
          "text": [
            "H\n",
            "COOL!\n",
            "e\n",
            "COOL!\n",
            "l\n",
            "COOL!\n",
            "l\n",
            "COOL!\n",
            "o\n",
            "COOL!\n",
            " \n",
            "COOL!\n",
            "W\n",
            "COOL!\n",
            "o\n",
            "COOL!\n",
            "r\n",
            "COOL!\n",
            "l\n",
            "COOL!\n",
            "d\n",
            "COOL!\n"
          ]
        }
      ]
    },
    {
      "cell_type": "markdown",
      "source": [
        "**For Loop with Tuples**"
      ],
      "metadata": {
        "id": "owD1te_PbWJX"
      }
    },
    {
      "cell_type": "code",
      "source": [
        "tup=(1,2,3)\n",
        "\n",
        "for item in tup:\n",
        "  print (item)"
      ],
      "metadata": {
        "colab": {
          "base_uri": "https://localhost:8080/"
        },
        "id": "H0O5SWAqS8dc",
        "outputId": "087bd666-6e3e-4c7e-c848-41a61edf856a"
      },
      "execution_count": 15,
      "outputs": [
        {
          "output_type": "stream",
          "name": "stdout",
          "text": [
            "1\n",
            "2\n",
            "3\n"
          ]
        }
      ]
    },
    {
      "cell_type": "code",
      "source": [
        "myList=[(1,2),(3,4),(5,6),(7,8)]"
      ],
      "metadata": {
        "id": "lj-5MqdYTCIN"
      },
      "execution_count": 16,
      "outputs": []
    },
    {
      "cell_type": "code",
      "source": [
        "len(myList)"
      ],
      "metadata": {
        "colab": {
          "base_uri": "https://localhost:8080/"
        },
        "id": "w5Fko5xFTJ3K",
        "outputId": "6aacdbac-032f-4e7d-9c1a-eee9bd533976"
      },
      "execution_count": 17,
      "outputs": [
        {
          "output_type": "execute_result",
          "data": {
            "text/plain": [
              "4"
            ]
          },
          "metadata": {},
          "execution_count": 17
        }
      ]
    },
    {
      "cell_type": "code",
      "source": [
        "for item in myList:\n",
        "  print(item)"
      ],
      "metadata": {
        "colab": {
          "base_uri": "https://localhost:8080/"
        },
        "id": "_dMGI_qfTLuj",
        "outputId": "a1e3fd55-8dd4-42bb-81a1-6ef84773da5d"
      },
      "execution_count": 18,
      "outputs": [
        {
          "output_type": "stream",
          "name": "stdout",
          "text": [
            "(1, 2)\n",
            "(3, 4)\n",
            "(5, 6)\n",
            "(7, 8)\n"
          ]
        }
      ]
    },
    {
      "cell_type": "code",
      "source": [
        "#tuple unpacking\n",
        "for (a,b) in myList:\n",
        "  print(a)\n",
        "  print(b)"
      ],
      "metadata": {
        "colab": {
          "base_uri": "https://localhost:8080/"
        },
        "id": "0OL4uzsqbSpj",
        "outputId": "d554c47d-fdb1-4f63-d24d-16066ee77347"
      },
      "execution_count": 19,
      "outputs": [
        {
          "output_type": "stream",
          "name": "stdout",
          "text": [
            "1\n",
            "2\n",
            "3\n",
            "4\n",
            "5\n",
            "6\n",
            "7\n",
            "8\n"
          ]
        }
      ]
    },
    {
      "cell_type": "code",
      "source": [
        "myList=[(1,2,3),(4,5,6),(7,8,9)]"
      ],
      "metadata": {
        "id": "fAPFVWnqcQ9k"
      },
      "execution_count": 20,
      "outputs": []
    },
    {
      "cell_type": "code",
      "source": [
        "for (a,b,c) in myList:\n",
        "  print(item)"
      ],
      "metadata": {
        "colab": {
          "base_uri": "https://localhost:8080/"
        },
        "id": "mWT1-00NcYUX",
        "outputId": "b8c748d8-bbd0-45ed-87fb-18cb864d1ccf"
      },
      "execution_count": 21,
      "outputs": [
        {
          "output_type": "stream",
          "name": "stdout",
          "text": [
            "(7, 8)\n",
            "(7, 8)\n",
            "(7, 8)\n"
          ]
        }
      ]
    },
    {
      "cell_type": "markdown",
      "source": [
        "For Loops with Dictionary"
      ],
      "metadata": {
        "id": "imArzI0cckN-"
      }
    },
    {
      "cell_type": "code",
      "source": [
        "d={'k1':1, 'k2':2,'k3': 3}\n",
        "\n",
        "for key, value in d.items():\n",
        "  print(value)"
      ],
      "metadata": {
        "colab": {
          "base_uri": "https://localhost:8080/"
        },
        "id": "p4GODd3PckD2",
        "outputId": "31de8130-af54-43ff-e8ca-8ffc0ff7b3e0"
      },
      "execution_count": 25,
      "outputs": [
        {
          "output_type": "stream",
          "name": "stdout",
          "text": [
            "1\n",
            "2\n",
            "3\n"
          ]
        }
      ]
    }
  ]
}