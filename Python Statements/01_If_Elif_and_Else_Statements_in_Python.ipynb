{
  "nbformat": 4,
  "nbformat_minor": 0,
  "metadata": {
    "colab": {
      "provenance": []
    },
    "kernelspec": {
      "name": "python3",
      "display_name": "Python 3"
    },
    "language_info": {
      "name": "python"
    }
  },
  "cells": [
    {
      "cell_type": "markdown",
      "source": [
        "Control Flow syntax makes use of colons and indentation(whitespaces). This indentation system is crucial to Python and is what sets it apart from other programming languages.\n",
        "\n",
        "1. Syntax of an **if** statement:\n",
        "\n",
        "```\n",
        "if some_condition:\n",
        "  #execute some code\n",
        "```\n",
        "2. Syntax of an **if/else** statement:\n",
        "```\n",
        "if some_condition:\n",
        "  #execute some cose\n",
        "else #execute some code\n",
        "```\n",
        "\n",
        "3. Syntax of an if/else statement:\n",
        "```\n",
        "if some_condition:\n",
        "  #execute some code\n",
        "elif some_other_condition:\n",
        "  #do something different\n",
        "else:\n",
        "  #do something else\n",
        "```\n",
        "\n",
        "\n",
        "\n",
        "\n",
        "\n",
        "\n",
        "\n",
        "\n",
        "\n"
      ],
      "metadata": {
        "id": "8ATkT1A8Eh4T"
      }
    },
    {
      "cell_type": "code",
      "execution_count": 1,
      "metadata": {
        "colab": {
          "base_uri": "https://localhost:8080/"
        },
        "id": "9UF6uDHnDcRD",
        "outputId": "0cb2ab81-9ac5-4592-a0c6-0162da1bb9d8"
      },
      "outputs": [
        {
          "output_type": "stream",
          "name": "stdout",
          "text": [
            "Its True!\n"
          ]
        }
      ],
      "source": [
        "if True:\n",
        "  print('Its True!')"
      ]
    },
    {
      "cell_type": "code",
      "source": [
        "if 3>2:\n",
        "  print('Its True!')"
      ],
      "metadata": {
        "colab": {
          "base_uri": "https://localhost:8080/"
        },
        "id": "0hOJnTJRKpYA",
        "outputId": "7ac4ac2d-a196-414f-e14d-ec02b28f6c99"
      },
      "execution_count": 2,
      "outputs": [
        {
          "output_type": "stream",
          "name": "stdout",
          "text": [
            "Its True!\n"
          ]
        }
      ]
    },
    {
      "cell_type": "code",
      "source": [
        "hungry = True\n",
        "if hungry:\n",
        "  print('Feed Me!')"
      ],
      "metadata": {
        "colab": {
          "base_uri": "https://localhost:8080/"
        },
        "id": "tl5JbFk4KxuT",
        "outputId": "19665bdb-3bb9-4023-8f67-1fb3a17772e0"
      },
      "execution_count": 3,
      "outputs": [
        {
          "output_type": "stream",
          "name": "stdout",
          "text": [
            "Feed Me!\n"
          ]
        }
      ]
    },
    {
      "cell_type": "code",
      "source": [
        "hungry= False\n",
        "\n",
        "if hungry:\n",
        "  print('Feed Me!')\n",
        "else:\n",
        "  print(\"I am not hungry!\")"
      ],
      "metadata": {
        "colab": {
          "base_uri": "https://localhost:8080/"
        },
        "id": "6msZGsi-K35R",
        "outputId": "88e64b15-e8a0-417e-827f-7509ba843539"
      },
      "execution_count": 4,
      "outputs": [
        {
          "output_type": "stream",
          "name": "stdout",
          "text": [
            "I am not hungry!\n"
          ]
        }
      ]
    },
    {
      "cell_type": "code",
      "source": [
        "loc='Bank'\n",
        "if loc=='Auto Shop':\n",
        "  print(\"Cars are cool!\")\n",
        "\n",
        "else:\n",
        "  print(\"I do not know much\")"
      ],
      "metadata": {
        "id": "SOXMhhCELHIJ"
      },
      "execution_count": null,
      "outputs": []
    },
    {
      "cell_type": "code",
      "source": [
        "loc='Bank'\n",
        "\n",
        "if loc=='Auto Shop':\n",
        "  print(\"Cars are cool!\")\n",
        "elif loc =='Bank':\n",
        "  print(\"Money is cool!\")\n",
        "elif loc == 'Store':\n",
        "  print(\"Welcome to the store!\")\n",
        "else:\n",
        "  print(\"I do not know much\")"
      ],
      "metadata": {
        "colab": {
          "base_uri": "https://localhost:8080/"
        },
        "id": "s5avUcPWLSjx",
        "outputId": "c53d6c9e-faaa-4162-c6e7-82e53fd325c5"
      },
      "execution_count": 12,
      "outputs": [
        {
          "output_type": "stream",
          "name": "stdout",
          "text": [
            "Money is cool!\n"
          ]
        }
      ]
    },
    {
      "cell_type": "code",
      "source": [
        "name='Sammy'\n",
        "\n",
        "if name=='Frankie':\n",
        "  print(\"Hello Frankie!\")\n",
        "\n",
        "elif name== 'Sammy':\n",
        "  print(\"Hello Sammy\")\n",
        "\n",
        "else:\n",
        "  print(\"What is your name?\")"
      ],
      "metadata": {
        "colab": {
          "base_uri": "https://localhost:8080/"
        },
        "id": "5XYGcU5cLoLx",
        "outputId": "63df193b-def0-425e-c2f1-09b266c8af8b"
      },
      "execution_count": 14,
      "outputs": [
        {
          "output_type": "stream",
          "name": "stdout",
          "text": [
            "Hello Sammy\n"
          ]
        }
      ]
    },
    {
      "cell_type": "code",
      "source": [],
      "metadata": {
        "id": "yu2s2kZsPSpg"
      },
      "execution_count": null,
      "outputs": []
    }
  ]
}