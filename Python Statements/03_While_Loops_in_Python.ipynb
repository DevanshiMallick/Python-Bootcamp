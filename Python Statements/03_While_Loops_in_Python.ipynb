{
  "nbformat": 4,
  "nbformat_minor": 0,
  "metadata": {
    "colab": {
      "provenance": []
    },
    "kernelspec": {
      "name": "python3",
      "display_name": "Python 3"
    },
    "language_info": {
      "name": "python"
    }
  },
  "cells": [
    {
      "cell_type": "markdown",
      "source": [
        "Syntax of a While Loop:\n",
        "1.\n",
        "```\n",
        "while some_boolean_condition:\n",
        "    # do something\n",
        "```\n",
        "2.\n",
        "```\n",
        "while some_boolean_condition:\n",
        "    # do something\n",
        "else:\n",
        "    # do something different\n",
        "```"
      ],
      "metadata": {
        "id": "DgReW-3ddn8r"
      }
    },
    {
      "cell_type": "code",
      "execution_count": 2,
      "metadata": {
        "colab": {
          "base_uri": "https://localhost:8080/"
        },
        "id": "dFB2odIFdNpD",
        "outputId": "d26432fa-c32b-4a70-9545-93dbf866cb64"
      },
      "outputs": [
        {
          "output_type": "stream",
          "name": "stdout",
          "text": [
            "the current value of x is 0\n",
            "the current value of x is 1\n",
            "the current value of x is 2\n",
            "the current value of x is 3\n",
            "the current value of x is 4\n"
          ]
        }
      ],
      "source": [
        "x=0\n",
        "while x<5:\n",
        "  print(f'the current value of x is {x}')\n",
        "  x+=1"
      ]
    },
    {
      "cell_type": "code",
      "source": [
        " x=0\n",
        "while x<5:\n",
        "  print(f'the current value of x is {x}')\n",
        "  x+=1\n",
        "else:\n",
        "  print('x is not less than 5')"
      ],
      "metadata": {
        "colab": {
          "base_uri": "https://localhost:8080/"
        },
        "id": "-WoY7dqIeOXw",
        "outputId": "5b7f17c3-1e95-4023-fac3-553e2de954e8"
      },
      "execution_count": 3,
      "outputs": [
        {
          "output_type": "stream",
          "name": "stdout",
          "text": [
            "the current value of x is 0\n",
            "the current value of x is 1\n",
            "the current value of x is 2\n",
            "the current value of x is 3\n",
            "the current value of x is 4\n",
            "x is not less than 5\n"
          ]
        }
      ]
    },
    {
      "cell_type": "markdown",
      "source": [
        "**Break, Continue, Pass**\n",
        "\n",
        "We can use break, continue, pass statements in our loop to add functionality for various cases. The three statements are defined by:\n",
        "\n",
        "1. break: breaks out of the current loop closest enclosing loop.\n",
        "2. continue: goes to thetopof the cloest enclosing loop.\n",
        "3. pass: does nothing at all."
      ],
      "metadata": {
        "id": "wdWVEUTkgrRr"
      }
    },
    {
      "cell_type": "code",
      "source": [
        "x= [1,2,3]\n",
        "#error becuase python expects something after the indentation\n",
        "# and comment is not enough\n",
        "for item in x:\n",
        "  #comment"
      ],
      "metadata": {
        "colab": {
          "base_uri": "https://localhost:8080/",
          "height": 140
        },
        "id": "V4_4goKegt5X",
        "outputId": "fc7ce653-1e73-4ccc-f842-47ffb62c8dea"
      },
      "execution_count": 4,
      "outputs": [
        {
          "output_type": "error",
          "ename": "SyntaxError",
          "evalue": "ignored",
          "traceback": [
            "\u001b[0;36m  File \u001b[0;32m\"<ipython-input-4-23f8e86ef073>\"\u001b[0;36m, line \u001b[0;32m5\u001b[0m\n\u001b[0;31m    #comment\u001b[0m\n\u001b[0m            ^\u001b[0m\n\u001b[0;31mSyntaxError\u001b[0m\u001b[0;31m:\u001b[0m incomplete input\n"
          ]
        }
      ]
    },
    {
      "cell_type": "markdown",
      "source": [
        "so for this use pass instead.\n",
        "\n",
        "Some programmers use pass as a placeholder to avpid syntax error."
      ],
      "metadata": {
        "id": "GVT-OuhlhU7y"
      }
    },
    {
      "cell_type": "code",
      "source": [
        "x= [1,2,3]\n",
        "\n",
        "for item in x:\n",
        "  pass\n",
        "\n",
        "print('end of the script')"
      ],
      "metadata": {
        "colab": {
          "base_uri": "https://localhost:8080/"
        },
        "id": "Cg05oJxfhDi2",
        "outputId": "01c9fc39-c57f-4f1c-bd6c-e914412f7d95"
      },
      "execution_count": 5,
      "outputs": [
        {
          "output_type": "stream",
          "name": "stdout",
          "text": [
            "end of the script\n"
          ]
        }
      ]
    },
    {
      "cell_type": "code",
      "source": [
        "myString= 'Sammy'"
      ],
      "metadata": {
        "id": "lPhvOAT5hzKZ"
      },
      "execution_count": 6,
      "outputs": []
    },
    {
      "cell_type": "code",
      "source": [
        "for letter in myString:\n",
        "  if letter == 'a':\n",
        "    continue\n",
        "  print(letter)"
      ],
      "metadata": {
        "colab": {
          "base_uri": "https://localhost:8080/"
        },
        "id": "LvsMFo0Whr7O",
        "outputId": "9a1c534c-9865-48bc-de4c-3c363894544c"
      },
      "execution_count": 8,
      "outputs": [
        {
          "output_type": "stream",
          "name": "stdout",
          "text": [
            "S\n",
            "m\n",
            "m\n",
            "y\n"
          ]
        }
      ]
    },
    {
      "cell_type": "code",
      "source": [
        "for letter in myString:\n",
        "  if letter == 'a':\n",
        "    break\n",
        "  print(letter)"
      ],
      "metadata": {
        "colab": {
          "base_uri": "https://localhost:8080/"
        },
        "id": "9UHQBycTh_j7",
        "outputId": "043c0c3e-8fce-40d8-b6d6-7b5b7c41e9f1"
      },
      "execution_count": 9,
      "outputs": [
        {
          "output_type": "stream",
          "name": "stdout",
          "text": [
            "S\n"
          ]
        }
      ]
    },
    {
      "cell_type": "code",
      "source": [
        "x=0\n",
        "while x<5:\n",
        "  if x==2:\n",
        "    break\n",
        "  print(x)\n",
        "  x+=1\n"
      ],
      "metadata": {
        "colab": {
          "base_uri": "https://localhost:8080/"
        },
        "id": "_tox9DI0gpee",
        "outputId": "16b8e6a5-9e72-4ebb-e9a6-4316cee1bbd6"
      },
      "execution_count": 10,
      "outputs": [
        {
          "output_type": "stream",
          "name": "stdout",
          "text": [
            "0\n",
            "1\n"
          ]
        }
      ]
    }
  ]
}