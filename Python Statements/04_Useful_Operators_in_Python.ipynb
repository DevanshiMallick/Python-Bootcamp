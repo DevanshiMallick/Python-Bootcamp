{
  "nbformat": 4,
  "nbformat_minor": 0,
  "metadata": {
    "colab": {
      "provenance": []
    },
    "kernelspec": {
      "name": "python3",
      "display_name": "Python 3"
    },
    "language_info": {
      "name": "python"
    }
  },
  "cells": [
    {
      "cell_type": "markdown",
      "source": [
        "**Range function**"
      ],
      "metadata": {
        "id": "OLqbg2SPj2dE"
      }
    },
    {
      "cell_type": "code",
      "execution_count": 1,
      "metadata": {
        "id": "dZkrV0h4ibGM"
      },
      "outputs": [],
      "source": [
        "myList=[1,2,3]"
      ]
    },
    {
      "cell_type": "code",
      "source": [
        "#prints all numbers from 0 to 9 (10 is not included)\n",
        "for num in range(10):\n",
        "  print(num)"
      ],
      "metadata": {
        "colab": {
          "base_uri": "https://localhost:8080/"
        },
        "id": "BfpPEMnKj9QQ",
        "outputId": "8ab25bd1-a798-4900-ae99-57843b1c5dfe"
      },
      "execution_count": 2,
      "outputs": [
        {
          "output_type": "stream",
          "name": "stdout",
          "text": [
            "0\n",
            "1\n",
            "2\n",
            "3\n",
            "4\n",
            "5\n",
            "6\n",
            "7\n",
            "8\n",
            "9\n"
          ]
        }
      ]
    },
    {
      "cell_type": "code",
      "source": [
        "for num in range(3,10):\n",
        "  print(num)"
      ],
      "metadata": {
        "colab": {
          "base_uri": "https://localhost:8080/"
        },
        "id": "WVuDyL8dkHMj",
        "outputId": "3c007d74-2271-4a66-9a15-beb2308b9da6"
      },
      "execution_count": 3,
      "outputs": [
        {
          "output_type": "stream",
          "name": "stdout",
          "text": [
            "3\n",
            "4\n",
            "5\n",
            "6\n",
            "7\n",
            "8\n",
            "9\n"
          ]
        }
      ]
    },
    {
      "cell_type": "code",
      "source": [
        "for num in range(0,12,2):\n",
        "  print (num)"
      ],
      "metadata": {
        "colab": {
          "base_uri": "https://localhost:8080/"
        },
        "id": "WsVklwBWkK-_",
        "outputId": "60add432-7268-4bbf-d3ea-0b8fa183a592"
      },
      "execution_count": 4,
      "outputs": [
        {
          "output_type": "stream",
          "name": "stdout",
          "text": [
            "0\n",
            "2\n",
            "4\n",
            "6\n",
            "8\n",
            "10\n"
          ]
        }
      ]
    },
    {
      "cell_type": "code",
      "source": [
        "list(range(0,12,2))"
      ],
      "metadata": {
        "colab": {
          "base_uri": "https://localhost:8080/"
        },
        "id": "v9PvbmWZkSYk",
        "outputId": "030d5efc-9db2-4297-f963-eb2f600f03ac"
      },
      "execution_count": 5,
      "outputs": [
        {
          "output_type": "execute_result",
          "data": {
            "text/plain": [
              "[0, 2, 4, 6, 8, 10]"
            ]
          },
          "metadata": {},
          "execution_count": 5
        }
      ]
    },
    {
      "cell_type": "markdown",
      "source": [
        "**Enumerate**"
      ],
      "metadata": {
        "id": "Ztug5ZI3kYUs"
      }
    },
    {
      "cell_type": "code",
      "source": [
        "index_count=0\n",
        "for letter in 'abcde':\n",
        "  print('At index {} the letter is {}'.format(index_count,letter))\n",
        "  index_count+=1"
      ],
      "metadata": {
        "colab": {
          "base_uri": "https://localhost:8080/"
        },
        "id": "_9f-XDCMkWSk",
        "outputId": "ca54047f-0775-4efa-bd1c-870e8c869ac2"
      },
      "execution_count": 7,
      "outputs": [
        {
          "output_type": "stream",
          "name": "stdout",
          "text": [
            "At index 0 the letter is a\n",
            "At index 1 the letter is b\n",
            "At index 2 the letter is c\n",
            "At index 3 the letter is d\n",
            "At index 4 the letter is e\n"
          ]
        }
      ]
    },
    {
      "cell_type": "code",
      "source": [
        "index_count=0\n",
        "word='abcde'\n",
        "for letter in word:\n",
        "  print(word[index_count])\n",
        "  index_count+=1"
      ],
      "metadata": {
        "colab": {
          "base_uri": "https://localhost:8080/"
        },
        "id": "aAkT4mxXkvCH",
        "outputId": "32d3b0c1-f75a-4b7d-8a57-7b1f73222f0b"
      },
      "execution_count": 10,
      "outputs": [
        {
          "output_type": "stream",
          "name": "stdout",
          "text": [
            "a\n",
            "b\n",
            "c\n",
            "d\n",
            "e\n"
          ]
        }
      ]
    },
    {
      "cell_type": "code",
      "source": [
        "word= 'abcde'\n",
        "for item in enumerate(word):\n",
        "  print(item)\n",
        "\n",
        "#gives us a tuples in a form of pair(index, word)"
      ],
      "metadata": {
        "colab": {
          "base_uri": "https://localhost:8080/"
        },
        "id": "vd_CvC4dk7fO",
        "outputId": "c9d9a111-074f-40bc-cd2b-6740701f622d"
      },
      "execution_count": 9,
      "outputs": [
        {
          "output_type": "stream",
          "name": "stdout",
          "text": [
            "(0, 'a')\n",
            "(1, 'b')\n",
            "(2, 'c')\n",
            "(3, 'd')\n",
            "(4, 'e')\n"
          ]
        }
      ]
    },
    {
      "cell_type": "code",
      "source": [
        "#unpacking the tuple we got from the enumerate function\n",
        "word= 'abcde'\n",
        "for index,letter in enumerate(word):\n",
        "  print(index)\n",
        "  print(letter)\n",
        "  print('\\n')\n"
      ],
      "metadata": {
        "colab": {
          "base_uri": "https://localhost:8080/"
        },
        "id": "wOvAK4WglMjQ",
        "outputId": "530fba4d-609c-4793-9705-d2632fc2cbff"
      },
      "execution_count": 12,
      "outputs": [
        {
          "output_type": "stream",
          "name": "stdout",
          "text": [
            "0\n",
            "a\n",
            "\n",
            "\n",
            "1\n",
            "b\n",
            "\n",
            "\n",
            "2\n",
            "c\n",
            "\n",
            "\n",
            "3\n",
            "d\n",
            "\n",
            "\n",
            "4\n",
            "e\n",
            "\n",
            "\n"
          ]
        }
      ]
    },
    {
      "cell_type": "markdown",
      "source": [
        "**ZIP Function**\n",
        "\n",
        "Zips together two list and pairs up the items such that they match together.\n",
        "\n",
        "Say, list1 has three items and list2 has 5 items. Zip function will only pair up the first three elements from list1 and list2. It wont result in error but would ignore the last two items of list2."
      ],
      "metadata": {
        "id": "PQxGUV08ljEv"
      }
    },
    {
      "cell_type": "code",
      "source": [
        "myList1=[1,2,3,4,5]\n",
        "myList2=['a','b','c','d','e']"
      ],
      "metadata": {
        "id": "1ZXMcYkAliWE"
      },
      "execution_count": 13,
      "outputs": []
    },
    {
      "cell_type": "code",
      "source": [
        "for item in zip(myList1, myList2):\n",
        "  print(item)"
      ],
      "metadata": {
        "colab": {
          "base_uri": "https://localhost:8080/"
        },
        "id": "GKNKwrPVlw7m",
        "outputId": "29ee1c6c-3dd6-4269-9ed6-5ee9546856a8"
      },
      "execution_count": 14,
      "outputs": [
        {
          "output_type": "stream",
          "name": "stdout",
          "text": [
            "(1, 'a')\n",
            "(2, 'b')\n",
            "(3, 'c')\n",
            "(4, 'd')\n",
            "(5, 'e')\n"
          ]
        }
      ]
    },
    {
      "cell_type": "code",
      "source": [
        "myList1=[1,2,3,4,5]\n",
        "myList2=['a','b','c','d','e']\n",
        "myList3=[100,200,300,400,500]"
      ],
      "metadata": {
        "id": "ZcPYhDgrl9th"
      },
      "execution_count": 15,
      "outputs": []
    },
    {
      "cell_type": "code",
      "source": [
        "for item in zip(myList1, myList2,myList3):\n",
        "  print(item)"
      ],
      "metadata": {
        "colab": {
          "base_uri": "https://localhost:8080/"
        },
        "id": "It7jY0Z1mCcN",
        "outputId": "eab3eb17-b1bf-4205-844f-d24738c2449f"
      },
      "execution_count": 16,
      "outputs": [
        {
          "output_type": "stream",
          "name": "stdout",
          "text": [
            "(1, 'a', 100)\n",
            "(2, 'b', 200)\n",
            "(3, 'c', 300)\n",
            "(4, 'd', 400)\n",
            "(5, 'e', 500)\n"
          ]
        }
      ]
    },
    {
      "cell_type": "code",
      "source": [
        "myList1=[1,2,3,4,5]\n",
        "myList2=['a','b','c']\n"
      ],
      "metadata": {
        "id": "N36P36Zdmcfj"
      },
      "execution_count": 17,
      "outputs": []
    },
    {
      "cell_type": "code",
      "source": [
        "for item in zip(myList1, myList2):\n",
        "  print(item)"
      ],
      "metadata": {
        "colab": {
          "base_uri": "https://localhost:8080/"
        },
        "id": "ht2bAlpKmckX",
        "outputId": "685f6ea9-b0e5-47b0-f309-55eecd22a795"
      },
      "execution_count": 18,
      "outputs": [
        {
          "output_type": "stream",
          "name": "stdout",
          "text": [
            "(1, 'a')\n",
            "(2, 'b')\n",
            "(3, 'c')\n"
          ]
        }
      ]
    },
    {
      "cell_type": "code",
      "source": [
        "list(zip(myList1,myList2))\n",
        "#makes the list of the matching elements from the two lists after zipping it"
      ],
      "metadata": {
        "colab": {
          "base_uri": "https://localhost:8080/"
        },
        "id": "YSt_wBr2mkzL",
        "outputId": "91c3e8ee-2ff6-437d-815b-0fa561df18f6"
      },
      "execution_count": 19,
      "outputs": [
        {
          "output_type": "execute_result",
          "data": {
            "text/plain": [
              "[(1, 'a'), (2, 'b'), (3, 'c')]"
            ]
          },
          "metadata": {},
          "execution_count": 19
        }
      ]
    },
    {
      "cell_type": "markdown",
      "source": [
        "**In function**"
      ],
      "metadata": {
        "id": "3RcFxtx0mxhW"
      }
    },
    {
      "cell_type": "code",
      "source": [
        "'x' in [1,2,3]"
      ],
      "metadata": {
        "colab": {
          "base_uri": "https://localhost:8080/"
        },
        "id": "wxDd7pQjmqh1",
        "outputId": "63478381-a217-4e15-d057-da96130d0f77"
      },
      "execution_count": 21,
      "outputs": [
        {
          "output_type": "execute_result",
          "data": {
            "text/plain": [
              "False"
            ]
          },
          "metadata": {},
          "execution_count": 21
        }
      ]
    },
    {
      "cell_type": "code",
      "source": [
        "'x' in ['x','y','z']"
      ],
      "metadata": {
        "colab": {
          "base_uri": "https://localhost:8080/"
        },
        "id": "w7-DRmyBsB5a",
        "outputId": "9a21e557-5e2d-43cc-9ebd-3454cf9e2932"
      },
      "execution_count": 22,
      "outputs": [
        {
          "output_type": "execute_result",
          "data": {
            "text/plain": [
              "True"
            ]
          },
          "metadata": {},
          "execution_count": 22
        }
      ]
    },
    {
      "cell_type": "code",
      "source": [
        "'a' in 'a world'"
      ],
      "metadata": {
        "colab": {
          "base_uri": "https://localhost:8080/"
        },
        "id": "NeiXwcEYsIQF",
        "outputId": "edd9932c-e056-4e99-9efe-2555889aa444"
      },
      "execution_count": 23,
      "outputs": [
        {
          "output_type": "execute_result",
          "data": {
            "text/plain": [
              "True"
            ]
          },
          "metadata": {},
          "execution_count": 23
        }
      ]
    },
    {
      "cell_type": "code",
      "source": [
        "'mykey' in {'mykey':1}"
      ],
      "metadata": {
        "colab": {
          "base_uri": "https://localhost:8080/"
        },
        "id": "kd5Lav44sNY3",
        "outputId": "5bc9082b-fefc-492a-83f8-d870562279ad"
      },
      "execution_count": 24,
      "outputs": [
        {
          "output_type": "execute_result",
          "data": {
            "text/plain": [
              "True"
            ]
          },
          "metadata": {},
          "execution_count": 24
        }
      ]
    },
    {
      "cell_type": "code",
      "source": [
        "d=  {'mykey':1}\n",
        "\n",
        "345 in d.keys()"
      ],
      "metadata": {
        "colab": {
          "base_uri": "https://localhost:8080/"
        },
        "id": "BorPqTeIsTVc",
        "outputId": "0f851191-830a-47b6-e66d-c8d85eacc7a0"
      },
      "execution_count": 25,
      "outputs": [
        {
          "output_type": "execute_result",
          "data": {
            "text/plain": [
              "False"
            ]
          },
          "metadata": {},
          "execution_count": 25
        }
      ]
    },
    {
      "cell_type": "markdown",
      "source": [
        "**  Min and Max function**"
      ],
      "metadata": {
        "id": "_ZhM48WPmy90"
      }
    },
    {
      "cell_type": "code",
      "source": [
        "myList=[1,34,5,6,7,39]"
      ],
      "metadata": {
        "id": "UaBi0muIsb1r"
      },
      "execution_count": 28,
      "outputs": []
    },
    {
      "cell_type": "code",
      "source": [
        "min(myList)"
      ],
      "metadata": {
        "colab": {
          "base_uri": "https://localhost:8080/"
        },
        "id": "C2oV-aoGsgLS",
        "outputId": "6e146769-e1a5-4c7b-a0ae-a00299945f07"
      },
      "execution_count": 29,
      "outputs": [
        {
          "output_type": "execute_result",
          "data": {
            "text/plain": [
              "1"
            ]
          },
          "metadata": {},
          "execution_count": 29
        }
      ]
    },
    {
      "cell_type": "code",
      "source": [
        "max(myList)"
      ],
      "metadata": {
        "colab": {
          "base_uri": "https://localhost:8080/"
        },
        "id": "mOFEDqGPslOQ",
        "outputId": "cddac9ac-4891-410b-a10d-09e6702c348f"
      },
      "execution_count": 30,
      "outputs": [
        {
          "output_type": "execute_result",
          "data": {
            "text/plain": [
              "39"
            ]
          },
          "metadata": {},
          "execution_count": 30
        }
      ]
    },
    {
      "cell_type": "markdown",
      "source": [
        "**Importing a function** - doesnt return anything"
      ],
      "metadata": {
        "id": "iSlHED72soZu"
      }
    },
    {
      "cell_type": "code",
      "source": [
        "from random import shuffle"
      ],
      "metadata": {
        "id": "SspU0sa1ssVv"
      },
      "execution_count": 31,
      "outputs": []
    },
    {
      "cell_type": "code",
      "source": [
        "myList =[1,2,34,55,6,4,33,5,6,0]"
      ],
      "metadata": {
        "id": "Fqc1juvEsxpj"
      },
      "execution_count": 36,
      "outputs": []
    },
    {
      "cell_type": "code",
      "source": [
        "shuffle(myList)"
      ],
      "metadata": {
        "id": "yqffg3bfs0cM"
      },
      "execution_count": 38,
      "outputs": []
    },
    {
      "cell_type": "code",
      "source": [
        "myList"
      ],
      "metadata": {
        "colab": {
          "base_uri": "https://localhost:8080/"
        },
        "id": "_pe9dstms4Lq",
        "outputId": "a2f078c8-9e9f-4fa2-df11-92c55233e4d4"
      },
      "execution_count": 42,
      "outputs": [
        {
          "output_type": "execute_result",
          "data": {
            "text/plain": [
              "[6, 4, 33, 55, 34, 2, 1, 6, 5, 0]"
            ]
          },
          "metadata": {},
          "execution_count": 42
        }
      ]
    },
    {
      "cell_type": "code",
      "source": [
        "shuffled_List= shuffle(myList)"
      ],
      "metadata": {
        "id": "6IdICL1ys92R"
      },
      "execution_count": 41,
      "outputs": []
    },
    {
      "cell_type": "code",
      "source": [
        "shuffled_List # wont return anything"
      ],
      "metadata": {
        "id": "V6REmOQUs52K"
      },
      "execution_count": 46,
      "outputs": []
    },
    {
      "cell_type": "code",
      "source": [
        "from random import randint"
      ],
      "metadata": {
        "id": "5pQcnIV0tThU"
      },
      "execution_count": 47,
      "outputs": []
    },
    {
      "cell_type": "code",
      "source": [
        "randint(0,100)"
      ],
      "metadata": {
        "colab": {
          "base_uri": "https://localhost:8080/"
        },
        "id": "WF8tvEoNtWPo",
        "outputId": "e84dc96a-cef9-402f-d0d1-7180b8a9f78d"
      },
      "execution_count": 48,
      "outputs": [
        {
          "output_type": "execute_result",
          "data": {
            "text/plain": [
              "50"
            ]
          },
          "metadata": {},
          "execution_count": 48
        }
      ]
    },
    {
      "cell_type": "code",
      "source": [
        "myNum=randint(0,999)"
      ],
      "metadata": {
        "id": "9KBtYE2ytcU3"
      },
      "execution_count": 49,
      "outputs": []
    },
    {
      "cell_type": "code",
      "source": [
        "myNum"
      ],
      "metadata": {
        "colab": {
          "base_uri": "https://localhost:8080/"
        },
        "id": "oAcYP0aetfK_",
        "outputId": "1c65f1cf-e6f1-4a62-ae1e-977ae2c9ff8b"
      },
      "execution_count": 50,
      "outputs": [
        {
          "output_type": "execute_result",
          "data": {
            "text/plain": [
              "120"
            ]
          },
          "metadata": {},
          "execution_count": 50
        }
      ]
    },
    {
      "cell_type": "markdown",
      "source": [
        "**Accepting User Input**"
      ],
      "metadata": {
        "id": "yl9EjA0Ytgzl"
      }
    },
    {
      "cell_type": "code",
      "source": [
        "result= input('Enter a number here: ')"
      ],
      "metadata": {
        "colab": {
          "base_uri": "https://localhost:8080/"
        },
        "id": "FmKk4QVKtgFu",
        "outputId": "9af08ac3-2e83-4264-9811-f19ff5d162f3"
      },
      "execution_count": 51,
      "outputs": [
        {
          "name": "stdout",
          "output_type": "stream",
          "text": [
            "Enter a number here: jose\n"
          ]
        }
      ]
    },
    {
      "cell_type": "code",
      "source": [
        "result\n"
      ],
      "metadata": {
        "colab": {
          "base_uri": "https://localhost:8080/",
          "height": 35
        },
        "id": "dIjYgbz5trRw",
        "outputId": "cad95df6-cb05-415a-c185-81ab6b2dbb52"
      },
      "execution_count": 52,
      "outputs": [
        {
          "output_type": "execute_result",
          "data": {
            "text/plain": [
              "'jose'"
            ],
            "application/vnd.google.colaboratory.intrinsic+json": {
              "type": "string"
            }
          },
          "metadata": {},
          "execution_count": 52
        }
      ]
    },
    {
      "cell_type": "code",
      "source": [
        "type(result)"
      ],
      "metadata": {
        "id": "x8C_RjyRtvEn",
        "outputId": "ab28ca0c-dcda-41fa-a79f-04fdf0add868",
        "colab": {
          "base_uri": "https://localhost:8080/"
        }
      },
      "execution_count": 53,
      "outputs": [
        {
          "output_type": "execute_result",
          "data": {
            "text/plain": [
              "str"
            ]
          },
          "metadata": {},
          "execution_count": 53
        }
      ]
    }
  ]
}